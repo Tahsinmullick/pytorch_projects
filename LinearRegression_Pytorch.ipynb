{
  "nbformat": 4,
  "nbformat_minor": 0,
  "metadata": {
    "colab": {
      "provenance": []
    },
    "kernelspec": {
      "name": "python3",
      "display_name": "Python 3"
    },
    "language_info": {
      "name": "python"
    }
  },
  "cells": [
    {
      "cell_type": "code",
      "execution_count": 1,
      "metadata": {
        "id": "xur1GyhUJ-Gi"
      },
      "outputs": [],
      "source": [
        "import torch\n",
        "import torch.nn as nn\n",
        "import numpy as np\n",
        "import matplotlib.pyplot as plt"
      ]
    },
    {
      "cell_type": "markdown",
      "source": [
        "## Generating some synthetic data"
      ],
      "metadata": {
        "id": "bwnxeBWpKcJF"
      }
    },
    {
      "cell_type": "code",
      "source": [
        "# Generate 20 data points\n",
        "N = 20\n",
        "\n",
        "# The data is random and is in the domain of (-5, +5) in the x-axis\n",
        "X = np.random.random(N)*10 - 5\n",
        "\n",
        "# Gaussian noise is added so the MSE loss function can be used\n",
        "Y = 0.5 * X - 1 + np.random.randn(N)\n",
        "\n"
      ],
      "metadata": {
        "id": "vnq3WujyKUQz"
      },
      "execution_count": 8,
      "outputs": []
    },
    {
      "cell_type": "code",
      "source": [
        "# Plot data\n",
        "plt.scatter(X, Y);"
      ],
      "metadata": {
        "colab": {
          "base_uri": "https://localhost:8080/",
          "height": 430
        },
        "id": "n8F_sX-wLMQJ",
        "outputId": "c29fd5cc-e202-4bc7-b8d1-f8ff4ea595d5"
      },
      "execution_count": 9,
      "outputs": [
        {
          "output_type": "display_data",
          "data": {
            "text/plain": [
              "<Figure size 640x480 with 1 Axes>"
            ],
            "image/png": "[encoded data removed]"
          },
          "metadata": {}
        }
      ]
    },
    {
      "cell_type": "markdown",
      "source": [
        "## PyTorch implementation of Linear Regression model"
      ],
      "metadata": {
        "id": "GHFdXR0aLq7L"
      }
    },
    {
      "cell_type": "code",
      "source": [
        "# 1. Build Model\n",
        "# Create linear regression model with one input and one output\n",
        "model = nn.Linear(1, 1)"
      ],
      "metadata": {
        "id": "-8BMRlRALkr2"
      },
      "execution_count": 10,
      "outputs": []
    },
    {
      "cell_type": "code",
      "source": [
        "# Model Loss and Optimizer choice\n",
        "# Loss\n",
        "criterion = nn.MSELoss()\n",
        "# Optimizer\n",
        "optimizer = torch.optim.SGD(model.parameters(), lr = 0.05)"
      ],
      "metadata": {
        "id": "3bjF9HxMMIH-"
      },
      "execution_count": 11,
      "outputs": []
    },
    {
      "cell_type": "code",
      "source": [
        "# Reshaping data\n",
        "# (num_samples * num_dimensions)\n",
        "X = X.reshape(N, 1)\n",
        "Y = Y.reshape(N, 1)\n",
        "\n",
        "# Cast Data type\n",
        "# Pytorch uses float32 by default\n",
        "# Numpy creates float64 by default\n",
        "inputs = torch.from_numpy(X.astype(np.float32))\n",
        "targets = torch.from_numpy(Y.astype(np.float32))\n",
        "\n",
        "# Check to see data type cast worked\n",
        "print(type(inputs))"
      ],
      "metadata": {
        "colab": {
          "base_uri": "https://localhost:8080/"
        },
        "id": "DSMNfJuqMYdd",
        "outputId": "dd520b77-f86e-46ae-da33-4ee4ba1c0a35"
      },
      "execution_count": 12,
      "outputs": [
        {
          "output_type": "stream",
          "name": "stdout",
          "text": [
            "<class 'torch.Tensor'>\n"
          ]
        }
      ]
    },
    {
      "cell_type": "code",
      "source": [
        "# 2. Train loop\n",
        "n_epochs = 30 # Hyperparam tuning migth be required\n",
        "losses = [] # List to store losses\n",
        "\n",
        "for it in range(n_epochs):\n",
        "  # Zeroing parameter gradients\n",
        "  # Done as PyToch accumulates gradients during backward pass\n",
        "  optimizer.zero_grad()\n",
        "\n",
        "  # Forward pass\n",
        "  outputs = model(inputs)\n",
        "  loss = criterion(outputs, targets)\n",
        "\n",
        "  # Storing loss to plot later\n",
        "  losses.append(loss.item()) # When tensor is a single number and we want to\n",
        "                             # make it compatible we use the item() function\n",
        "\n",
        "  # Backward pass and optimization\n",
        "  loss.backward()\n",
        "  optimizer.step() # one step of gradient descent\n",
        "\n",
        "  print(f'Epoch: {it+1}/{n_epochs}, Loss: {loss.item():.4f}')\n"
      ],
      "metadata": {
        "colab": {
          "base_uri": "https://localhost:8080/"
        },
        "id": "BsichAPmNG6F",
        "outputId": "ab618548-8fad-484f-fbc9-45ad3b5ce66e"
      },
      "execution_count": 13,
      "outputs": [
        {
          "output_type": "stream",
          "name": "stdout",
          "text": [
            "Epoch: 1/30, Loss: 4.8536\n",
            "Epoch: 2/30, Loss: 3.6331\n",
            "Epoch: 3/30, Loss: 3.0505\n",
            "Epoch: 4/30, Loss: 2.5788\n",
            "Epoch: 5/30, Loss: 2.1929\n",
            "Epoch: 6/30, Loss: 1.8770\n",
            "Epoch: 7/30, Loss: 1.6185\n",
            "Epoch: 8/30, Loss: 1.4070\n",
            "Epoch: 9/30, Loss: 1.2339\n",
            "Epoch: 10/30, Loss: 1.0922\n",
            "Epoch: 11/30, Loss: 0.9763\n",
            "Epoch: 12/30, Loss: 0.8814\n",
            "Epoch: 13/30, Loss: 0.8037\n",
            "Epoch: 14/30, Loss: 0.7402\n",
            "Epoch: 15/30, Loss: 0.6882\n",
            "Epoch: 16/30, Loss: 0.6457\n",
            "Epoch: 17/30, Loss: 0.6108\n",
            "Epoch: 18/30, Loss: 0.5823\n",
            "Epoch: 19/30, Loss: 0.5590\n",
            "Epoch: 20/30, Loss: 0.5399\n",
            "Epoch: 21/30, Loss: 0.5243\n",
            "Epoch: 22/30, Loss: 0.5115\n",
            "Epoch: 23/30, Loss: 0.5011\n",
            "Epoch: 24/30, Loss: 0.4925\n",
            "Epoch: 25/30, Loss: 0.4855\n",
            "Epoch: 26/30, Loss: 0.4798\n",
            "Epoch: 27/30, Loss: 0.4751\n",
            "Epoch: 28/30, Loss: 0.4712\n",
            "Epoch: 29/30, Loss: 0.4681\n",
            "Epoch: 30/30, Loss: 0.4655\n"
          ]
        }
      ]
    },
    {
      "cell_type": "code",
      "source": [
        "# Plot of the loss per iteration\n",
        "plt.plot(losses)"
      ],
      "metadata": {
        "colab": {
          "base_uri": "https://localhost:8080/",
          "height": 447
        },
        "id": "smU2ez7vPATX",
        "outputId": "40331b94-b006-43de-8794-c15500f02773"
      },
      "execution_count": 14,
      "outputs": [
        {
          "output_type": "execute_result",
          "data": {
            "text/plain": [
              "[<matplotlib.lines.Line2D at 0x7c422b81e500>]"
            ]
          },
          "metadata": {},
          "execution_count": 14
        },
        {
          "output_type": "display_data",
          "data": {
            "text/plain": [
              "<Figure size 640x480 with 1 Axes>"
            ],
            "image/png": "[encoded data removed]"
          },
          "metadata": {}
        }
      ]
    },
    {
      "cell_type": "code",
      "source": [
        "# Plotting the best fit line\n",
        "predicted = model(inputs).detach().numpy() # since we wish to work with numpy arrays\n",
        "                                           # we first detach the tensor and call numpy() on it\n",
        "plt.scatter(X, Y, label=\"Original Data\")\n",
        "plt.plot(X, predicted, color=\"red\", label=\"Fitted Line\")\n",
        "plt.legend()\n",
        "plt.show()\n"
      ],
      "metadata": {
        "colab": {
          "base_uri": "https://localhost:8080/",
          "height": 430
        },
        "id": "Nbe3zxFTP0_Z",
        "outputId": "30bfe8a9-c33a-4004-c98d-4caed5889330"
      },
      "execution_count": 15,
      "outputs": [
        {
          "output_type": "display_data",
          "data": {
            "text/plain": [
              "<Figure size 640x480 with 1 Axes>"
            ],
            "image/png": "[encoded data removed]"
          },
          "metadata": {}
        }
      ]
    },
    {
      "cell_type": "code",
      "source": [
        "# Alternative way we can get model output without gradients\n",
        "with torch.no_grad():\n",
        "  out = model(inputs).numpy()\n",
        "out"
      ],
      "metadata": {
        "colab": {
          "base_uri": "https://localhost:8080/"
        },
        "id": "HfU-f6OZQTCI",
        "outputId": "96b07df6-eb37-4451-cdfc-2f44feeccb7e"
      },
      "execution_count": 16,
      "outputs": [
        {
          "output_type": "execute_result",
          "data": {
            "text/plain": [
              "array([[-2.179556  ],\n",
              "       [-0.70252407],\n",
              "       [-0.588081  ],\n",
              "       [-0.64809585],\n",
              "       [-2.6038275 ],\n",
              "       [-1.5690014 ],\n",
              "       [-2.3400116 ],\n",
              "       [-0.2384209 ],\n",
              "       [ 0.03369212],\n",
              "       [ 0.37532842],\n",
              "       [-1.94913   ],\n",
              "       [-1.6135063 ],\n",
              "       [-0.8541284 ],\n",
              "       [-2.633546  ],\n",
              "       [-1.6613915 ],\n",
              "       [-2.4667883 ],\n",
              "       [-0.42087293],\n",
              "       [-2.3694482 ],\n",
              "       [-2.3761156 ],\n",
              "       [ 0.5615908 ]], dtype=float32)"
            ]
          },
          "metadata": {},
          "execution_count": 16
        }
      ]
    },
    {
      "cell_type": "code",
      "source": [
        "# Checking parameters\n",
        "# Synthetic data is useful because we will know the exact answer\n",
        "# True values of w and b are (0.5, -1)\n",
        "w = model.weight.data.numpy()\n",
        "b = model.bias.data.numpy()\n",
        "print(f'w: {w}, b: {b}')"
      ],
      "metadata": {
        "colab": {
          "base_uri": "https://localhost:8080/"
        },
        "id": "yiCYuoxRRUH6",
        "outputId": "01d5e118-88b6-4108-9d0e-1fefc9773bd8"
      },
      "execution_count": 17,
      "outputs": [
        {
          "output_type": "stream",
          "name": "stdout",
          "text": [
            "w: [[0.3530415]], b: [-1.0986992]\n"
          ]
        }
      ]
    },
    {
      "cell_type": "code",
      "source": [],
      "metadata": {
        "id": "0XtdkFf8RwYF"
      },
      "execution_count": null,
      "outputs": []
    }
  ]
}